{
 "cells": [
  {
   "cell_type": "code",
   "execution_count": 16,
   "metadata": {},
   "outputs": [],
   "source": [
    "import os\n",
    "from openai import OpenAI \n",
    "import pandas as pd"
   ]
  },
  {
   "cell_type": "code",
   "execution_count": 17,
   "metadata": {},
   "outputs": [],
   "source": [
    "f = open('key.txt', 'r')\n",
    "key = f.read()\n",
    "\n",
    "client = OpenAI(\n",
    "    api_key=key,  # This is the default and can be omitted\n",
    ")\n",
    "f.close()\n"
   ]
  },
  {
   "cell_type": "code",
   "execution_count": 18,
   "metadata": {},
   "outputs": [],
   "source": [
    "folder_path = 'synthea'\n",
    "\n",
    "csv_files = [f for f in os.listdir(folder_path) if f.endswith('.csv')]\n",
    "\n",
    "for csv_file in csv_files:\n",
    "    csv_file_path = os.path.join(folder_path, csv_file)\n",
    "    \n",
    "    df = pd.read_csv(csv_file_path)\n",
    "    \n",
    "    jsonl_file_path = os.path.join(folder_path, csv_file.replace('.csv', '.json'))\n",
    "    df.to_json(jsonl_file_path, orient='records', indent=4)"
   ]
  },
  {
   "cell_type": "code",
   "execution_count": 42,
   "metadata": {},
   "outputs": [],
   "source": [
    "assistant = client.beta.assistants.create(\n",
    "  name=\"Healthcare File Analyzer\",\n",
    "  instructions=\"You are an expert at analyzing CSV files, and using train of thought processes to evaluate and draw trends between several provided files.\",\n",
    "  model=\"gpt-3.5-turbo\",\n",
    "  tools=[{\"type\": \"file_search\"}],\n",
    ")\n"
   ]
  },
  {
   "cell_type": "code",
   "execution_count": 43,
   "metadata": {},
   "outputs": [],
   "source": [
    "f = open('assistant_key.txt', 'r')\n",
    "assistant_key = f.read()\n",
    "f.close()"
   ]
  },
  {
   "cell_type": "code",
   "execution_count": 44,
   "metadata": {},
   "outputs": [],
   "source": [
    "vector_store = client.beta.vector_stores.create(name=\"Healthcare Files\")\n",
    " \n",
    "file_paths = [\"./synthea/patients.json\", \"./synthea/conditions.json\"]\n",
    "file_streams = [open(path, \"rb\") for path in file_paths]\n",
    " \n",
    "\n",
    "file_batch = client.beta.vector_stores.file_batches.upload_and_poll(\n",
    "  vector_store_id=vector_store.id, files=file_streams\n",
    ")\n",
    " \n",
    "assistant = client.beta.assistants.update(\n",
    "    assistant_id=assistant_key,\n",
    "    tool_resources={\"file_search\": {\"vector_store_ids\": [vector_store.id]}}\n",
    ")\n"
   ]
  },
  {
   "cell_type": "code",
   "execution_count": 47,
   "metadata": {},
   "outputs": [],
   "source": [
    "\n",
    "def query_client(thread_id, assistant_id, query):\n",
    "    message = client.beta.threads.messages.create(\n",
    "        thread_id=thread.id,\n",
    "        role=\"user\",\n",
    "        content=query\n",
    "    )\n",
    "\n",
    "    run = client.beta.threads.runs.create_and_poll(thread_id=thread.id, assistant_id=assistant_key)\n",
    "    messages = list(client.beta.threads.messages.list(thread_id=thread.id, run_id=run.id))\n",
    "    response = messages[0].content[0].text\n",
    "    print()\n",
    "    print(\"Query:\")\n",
    "    print(query)\n",
    "    print()\n",
    "    print(\"Response:\")\n",
    "    print(str(response.value))"
   ]
  },
  {
   "cell_type": "code",
   "execution_count": 48,
   "metadata": {},
   "outputs": [
    {
     "name": "stdout",
     "output_type": "stream",
     "text": [
      "\n",
      "Query:\n",
      "Give a summary of conditions.json\n",
      "\n",
      "Response:\n",
      "The \"conditions.json\" file contains information about various medical conditions and situations for different patients. Here is a summary of the contents:\n",
      "\n",
      "1. Patient \"f3884e8a-8b36-1e93-66dd-e910dfab2ef5\":\n",
      "   - Various conditions and situations such as leaking dental filling, limited social contact, gingivitis, medication review due, part-time employment, and full-time employment are documented for this patient.\n",
      "\n",
      "2. Patient \"24a8f8bc-f502-5f0e-0dd7-27d64a15ed9e\":\n",
      "   - Conditions include risk activity involvement, acute viral pharyngitis, gingivitis, and medication review due.\n",
      "\n",
      "3. Patient \"60fc807a-de74-7722-b431-a63362670472\":\n",
      "   - Records show limited social contact, suspected disease caused by SARS-CoV-2, sputum finding, fatigue, fever, and loss of taste for this patient.\n",
      "\n",
      "4. Patient \"bad5a231-3709-952a-cf44-f8d6a52cc214\":\n",
      "   - Medical conditions documented include dental filling lost, fractures of bone and clavicle, stress, victim of intimate partner abuse, and more.\n",
      "\n",
      "This summary provides an overview of the medical conditions and situations recorded in the \"conditions.json\" file for different patients.【4:0†source】,【4:1†source】,【4:3†source】,【4:4†source】.\n",
      "\n",
      "Query:\n",
      "Give a summary of patients.json\n",
      "\n",
      "Response:\n",
      "The \"patients.json\" file contains detailed information about several patients. Here is a summary of the contents:\n",
      "\n",
      "1. Patient \"f3884e8a-8b36-1e93-66dd-e910dfab2ef5\":\n",
      "   - Details include birthdate in 1978, healthcare expenses of 14478.23, healthcare coverage of 693.39, and an income of 75767. This patient is from Massachusetts.\n",
      "\n",
      "2. Patient \"4569671e-ed39-055f-8e78-422b96c9896b\":\n",
      "   - Born in 2013, with healthcare expenses of 9821.14, healthcare coverage of 27142.51, and an income of 58294. This patient resides in Massachusetts as well.\n",
      "\n",
      "3. Patient \"c1acd7ba-dacf-36d2-6010-db8934400000\":\n",
      "   - Born in 1968, healthcare expenses amount to 175817.63, healthcare coverage is 55473.97, and the income is 49737. The patient is also located in Massachusetts.\n",
      "\n",
      "4. Patient \"3648fb36-1cd1-3641-0b1c-1f00d1e7e7de\":\n",
      "   - This patient was born in 2006, with healthcare expenses of 351895.63, no healthcare coverage, and an income of 61926. The patient is from Massachusetts too.\n",
      "\n",
      "5. Patient \"2bd4d47d-5e00-3b67-cdd7-03f4b811b711\":\n",
      "   - Born in 1962, healthcare expenses total 494686.66, healthcare coverage is 9394.81, and income is 62332. This patient is from Massachusetts.\n",
      "\n",
      "This summary provides an overview of the patient data recorded in the \"patients.json\" file, including information on healthcare expenses, coverage, income, demographics, and location.【8:0†source】, 【8:1†source】, 【8:1†source】, 【8:1†source】, 【8:3†source】.\n"
     ]
    }
   ],
   "source": [
    "query1 = \"Give a summary of conditions.json\"\n",
    "query2 = \"Give a summary of patients.json\"\n",
    "thread = client.beta.threads.create()\n",
    "query_client(thread.id, assistant_key, query1)\n",
    "query_client(thread.id, assistant_key, query2)\n"
   ]
  },
  {
   "cell_type": "code",
   "execution_count": 29,
   "metadata": {},
   "outputs": [
    {
     "name": "stdout",
     "output_type": "stream",
     "text": [
      "\n",
      "Query:\n",
      "Using patients.json, create a process to find if there are any trends with a patient's income and the state they live in.\n",
      "\n",
      "Response:\n",
      "After analyzing the data from \"patients.json\" file, we can create a process to find trends between a patient's income and the state they live in as follows:\n",
      "\n",
      "1. Extract the income and state information for each patient from the \"patients.json\" file.\n",
      "2. Group the data by state to calculate statistical measures such as average income, median income, and income distribution for each state.\n",
      "3. Analyze and compare the income trends across different states to identify any significant patterns or trends.\n",
      "\n",
      "The analysis of income and state information from the \"patients.json\" file allows for a comprehensive examination of how patients' incomes vary across different states and enables the identification of potential trends in income distribution based on geographic location.\n",
      "\n",
      "Source:\n",
      "- \"patients.json\"\n"
     ]
    }
   ],
   "source": [
    "query3 = \"Using patients.json, create a process to find if there are any trends with a patient's income and the state they live in.\"\n",
    "query_client(thread.id, assistant_key, query3)"
   ]
  },
  {
   "cell_type": "code",
   "execution_count": 31,
   "metadata": {},
   "outputs": [
    {
     "name": "stdout",
     "output_type": "stream",
     "text": [
      "\n",
      "Query:\n",
      "Execute this step: 1. Extract the income and state information for each patient from the \"patients.json\" file.\n",
      "Provide what steps you took to execute this step, and any analysis if relevant.\n",
      "\n",
      "Response:\n",
      "I extracted the income and state information for each patient from the \"patients.json\" file. Here are some examples of patient entries with their income and state information:\n",
      "\n",
      "1. Patient \"766 Grant Loaf Unit 15\" in Groveland, Massachusetts:\n",
      "   - Income: $52,159\n",
      "   - State: Massachusetts\n",
      "   - File source: \"patients.json\"【37:0†source】\n",
      "\n",
      "2. Patient \"866 Kulas Harbor\" in Cambridge, Massachusetts:\n",
      "   - Income: $75,767\n",
      "   - State: Massachusetts\n",
      "   - File source: \"patients.json\"【37:0†source】\n",
      "\n",
      "3. Patient \"578 Dickens Camp\" in Arlington, Massachusetts:\n",
      "   - Income: $58,294\n",
      "   - State: Massachusetts\n",
      "   - File source: \"patients.json\"【37:0†source】\n",
      "\n",
      "4. Patient \"689 Bailey Plaza Apt 88\" in Brockton, Massachusetts:\n",
      "   - Income: $8,615\n",
      "   - State: Massachusetts\n",
      "   - File source: \"patients.json\"【37:4†source】\n",
      "\n",
      "5. Patient \"1059 Gutkowski Rapid\" in West Concord, Massachusetts:\n",
      "   - Income: $127,881\n",
      "   - State: Massachusetts\n",
      "   - File source: \"patients.json\"【37:2†source】\n",
      "\n",
      "These examples illustrate the extraction of income and state information for patients from the \"patients.json\" file.\n",
      "\n",
      "Query:\n",
      "Execute this step: 2. Group the data by state to calculate statistical measures such as average income, median income, and income distribution for each state.\n",
      "Provide what steps you took to execute this step, and any analysis if relevant.\n",
      "\n",
      "Response:\n",
      "I took the step to group the data by state and found income information for patients in Massachusetts from the \"patients.json\" file. Here are some examples of patients in Massachusetts along with their income information:\n",
      "\n",
      "1. Patient \"Leigh689 White193\" in Whitman, Massachusetts:\n",
      "   - Income: $95,075\n",
      "   - Ethnicity: Non-Hispanic\n",
      "   - File source: \"patients.json\"【42:0†source】\n",
      "\n",
      "2. Patient \"Willian804 Keeling57\" in Braintree, Massachusetts:\n",
      "   - Income: $49,737\n",
      "   - Ethnicity: Non-Hispanic\n",
      "   - File source: \"patients.json\"【42:0†source】\n",
      "\n",
      "3. Patient \"Domenica436 Rau926\" in Haverhill, Massachusetts:\n",
      "   - Income: $77,756\n",
      "   - Ethnicity: Hispanic\n",
      "   - File source: \"patients.json\"【42:0†source】\n",
      "\n",
      "4. Patient \"Bennie663 Ebert178\" in Braintree, Massachusetts:\n",
      "   - Income: $49,737\n",
      "   - Ethnicity: Non-Hispanic\n",
      "   - File source: \"patients.json\"【42:0†source】\n",
      "\n",
      "5. Patient \"Hunter736 Gerlach374\" in Mattapoisett, Massachusetts:\n",
      "   - Income: $133,816\n",
      "   - Ethnicity: Non-Hispanic\n",
      "   - File source: \"patients.json\"【42:0†source】\n",
      "\n",
      "These examples provide insight into the income distribution for patients in Massachusetts and their respective ethnicities, illustrating the variety in income levels within the state.\n",
      "\n",
      "Query:\n",
      "Execute this step: 3. Analyze and compare the income trends across different states to identify any significant patterns or trends.\n",
      "Provide what steps you took to execute this step, and any analysis if relevant.\n",
      "\n",
      "Response:\n",
      "The data for the analysis of income trends across different states was retrieved from the \"patients.json\" file. The information includes patient details such as income, state, ethnicity, and additional demographic data. Here are some examples of patient entries from Massachusetts:\n",
      "\n",
      "1. Patient \"Dolly486 Franecki195\" in Shrewsbury, Massachusetts:\n",
      "   - Income: $188,023\n",
      "   - Ethnicity: Non-Hispanic\n",
      "   - File source: \"patients.json\"【47:0†source】\n",
      "\n",
      "2. Patient \"Elvera717 Koepp521\" in Stoneham, Massachusetts:\n",
      "   - Income: $26,516\n",
      "   - Ethnicity: Non-Hispanic\n",
      "   - File source: \"patients.json\"【47:0†source】\n",
      "\n",
      "3. Patient \"Kieth891 McKenzie376\" in West Concord, Massachusetts:\n",
      "   - Income: $127,881\n",
      "   - Ethnicity: Non-Hispanic\n",
      "   - File source: \"patients.json\"【47:1†source】\n",
      "\n",
      "4. Patient \"Marisha663 Carter549\" in Whitman, Massachusetts:\n",
      "   - Income: $29,352\n",
      "   - Ethnicity: Non-Hispanic\n",
      "   - File source: \"patients.json\"【47:2†source】\n",
      "\n",
      "5. Patient \"Cathy455 Wolff180\" in Lynn, Massachusetts:\n",
      "   - Income: $72,413\n",
      "   - Ethnicity: Asian, Non-Hispanic\n",
      "   - File source: \"patients.json\"【47:3†source】\n",
      "\n",
      "These patient entries provide a snapshot of income levels and demographics for individuals in different cities within Massachusetts. Further analysis and comparison of income trends across various states can be conducted using similar data from the \"patients.json\" file.\n"
     ]
    }
   ],
   "source": [
    "querys = ['1. Extract the income and state information for each patient from the \"patients.json\" file.',\n",
    "          '2. Group the data by state to calculate statistical measures such as average income, median income, and income distribution for each state.',\n",
    "          '3. Analyze and compare the income trends across different states to identify any significant patterns or trends.']\n",
    "\n",
    "for query in querys:\n",
    "    new_query = \"Execute this step: \" + query + \"\\nProvide what steps you took to execute this step, and any analysis if relevant.\"\n",
    "    query_client(thread.id, assistant_key, new_query)"
   ]
  },
  {
   "cell_type": "code",
   "execution_count": 26,
   "metadata": {},
   "outputs": [
    {
     "name": "stdout",
     "output_type": "stream",
     "text": [
      "\n",
      "Query:\n",
      "What are the 5 most common conditions in conditions.json? Include the number of occurrences of each.\n",
      "\n",
      "Response:\n",
      "The 5 most common conditions found in the \"conditions.json\" file along with the number of occurrences for each are:\n",
      "\n",
      "1. **Medication review due:** 3 occurrences\n",
      "2. **Suspected disease caused by Severe acute respiratory coronavirus 2:** 2 occurrences\n",
      "3. **Sputum finding:** 2 occurrences\n",
      "4. **Fatigue:** 2 occurrences\n",
      "5. **Fever:** 2 occurrences\n",
      "\n",
      "These are the top 5 most common conditions recorded in the \"conditions.json\" file, with the respective number of occurrences for each condition.\n"
     ]
    }
   ],
   "source": [
    "query4 = \"What are the 5 most common conditions in conditions.json? Include the number of occurrences of each.\"\n",
    "\n",
    "query_client(thread.id, assistant_key, query4)"
   ]
  },
  {
   "cell_type": "code",
   "execution_count": 28,
   "metadata": {},
   "outputs": [
    {
     "name": "stdout",
     "output_type": "stream",
     "text": [
      "\n",
      "Query:\n",
      "Find most common ethnicity of patients that have a condition of Fatigue by joining on patients.json using the Id key\n",
      "\n",
      "Response:\n",
      "After joining the data from \"conditions.json\" and \"patients.json\" based on the patient ID, the most common ethnicity of patients with the condition of Fatigue is non-Hispanic. Here are some of the patients with the condition of Fatigue and their corresponding ethnicity:\n",
      "\n",
      "1. Patient ID \"36ecae05-0060-b555-716f-303a8c34e914\":\n",
      "   - Ethnicity: Non-Hispanic\n",
      "\n",
      "2. Patient ID \"24a8f8bc-f502-5f0e-0dd7-27d64a15ed9e\":\n",
      "   - Ethnicity: Non-Hispanic\n",
      "\n",
      "3. Patient ID \"17e0bdef-4558-cc1d-2d44-90868cad827b\":\n",
      "   - Ethnicity: Non-Hispanic\n",
      "\n",
      "4. Patient ID \"bf40c2b4-4f0d-10cf-a2bb-cbb235e4e437\":\n",
      "   - Ethnicity: Hispanic\n",
      "\n",
      "5. Patient ID \"32d7e67e-d2f7-8e45-a332-a763e004976b\":\n",
      "   - Ethnicity: Non-Hispanic\n",
      "\n",
      "Among these patients with the condition of Fatigue, the most common ethnicity is non-Hispanic.\n",
      "\n",
      "Source:\n",
      "- \"conditions.json\" \n",
      "- \"patients.json\"\n"
     ]
    }
   ],
   "source": [
    "query5 = \"Find most common ethnicity of patients that have a condition of Fatigue by joining on patients.json using the Id key\"\n",
    "\n",
    "query_client(thread.id, assistant_key, query5)"
   ]
  },
  {
   "cell_type": "code",
   "execution_count": null,
   "metadata": {},
   "outputs": [],
   "source": []
  }
 ],
 "metadata": {
  "kernelspec": {
   "display_name": "base",
   "language": "python",
   "name": "python3"
  },
  "language_info": {
   "codemirror_mode": {
    "name": "ipython",
    "version": 3
   },
   "file_extension": ".py",
   "mimetype": "text/x-python",
   "name": "python",
   "nbconvert_exporter": "python",
   "pygments_lexer": "ipython3",
   "version": "3.11.7"
  }
 },
 "nbformat": 4,
 "nbformat_minor": 2
}
